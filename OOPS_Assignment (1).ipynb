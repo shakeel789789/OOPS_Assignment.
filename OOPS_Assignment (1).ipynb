{
  "nbformat": 4,
  "nbformat_minor": 0,
  "metadata": {
    "colab": {
      "provenance": []
    },
    "kernelspec": {
      "name": "python3",
      "display_name": "Python 3"
    },
    "language_info": {
      "name": "python"
    }
  },
  "cells": [
    {
      "cell_type": "markdown",
      "source": [
        "#THEORY"
      ],
      "metadata": {
        "id": "RigGVTVLmLJC"
      }
    },
    {
      "cell_type": "markdown",
      "source": [
        "#1:-What is Object-Oriented Programming (OOP)?\n",
        "\n",
        "Object-Oriented Programming (OOP) is a way of structuring code around objects that combine data (attributes) and behavior (methods).\n",
        "It is based on four main principles:\n",
        "\n",
        "Encapsulation (bundling data & methods)\n",
        "\n",
        "Abstraction (hiding details, showing essentials)\n",
        "\n",
        "Inheritance (reusing code from parent classes)\n",
        "\n",
        "Polymorphism (same method behaves differently)."
      ],
      "metadata": {
        "id": "om5Ppk53bN8v"
      }
    },
    {
      "cell_type": "markdown",
      "source": [
        "#2:-What is a class in OOP?\n",
        "\n",
        "In OOP, a class is a blueprint or template used to create objects.\n",
        "\n",
        "It defines:\n",
        "\n",
        "Attributes (data/properties) → e.g., color, brand\n",
        "\n",
        "Methods (functions/behavior) → e.g., drive(), stop()\n",
        "\n",
        "An object is an instance of a class.\n",
        "\n",
        "Example (Python):"
      ],
      "metadata": {
        "id": "EitAxDbcbfMA"
      }
    },
    {
      "cell_type": "code",
      "source": [
        "class Car:          # Class definition\n",
        "    def __init__(self, brand, model):\n",
        "        self.brand = brand\n",
        "        self.model = model\n",
        "\n",
        "    def drive(self):\n",
        "        print(f\"{self.brand} {self.model} is driving!\")\n",
        "\n",
        "car1 = Car(\"Tesla\", \"Model 3\")  # Object\n",
        "car1.drive()\n"
      ],
      "metadata": {
        "colab": {
          "base_uri": "https://localhost:8080/"
        },
        "id": "493USqzPbnOv",
        "outputId": "f713217b-a490-4ced-81a2-328f3d57b18e"
      },
      "execution_count": 1,
      "outputs": [
        {
          "output_type": "stream",
          "name": "stdout",
          "text": [
            "Tesla Model 3 is driving!\n"
          ]
        }
      ]
    },
    {
      "cell_type": "markdown",
      "source": [
        "#3:- What is an object in OOP?\n",
        "\n",
        "An object in OOP is an instance of a class that contains data (attributes) and functions (methods) to represent a real-world entity."
      ],
      "metadata": {
        "id": "_MbPqENlbtSI"
      }
    },
    {
      "cell_type": "markdown",
      "source": [
        "#4:-What is the difference between abstraction and encapsulation?\n",
        "\n",
        "Abstraction → Hides implementation details and shows only the essential features. (Focuses on what an object does.)\n",
        "\n",
        "Encapsulation → Hides data by wrapping variables and methods together in a class. (Focuses on how data is protected.)\n",
        "\n",
        " Example:\n",
        "\n",
        "Abstraction: A Car has a drive() method—you don’t need to know how the engine works.\n",
        "\n",
        "Encapsulation: The car’s speed variable is private and can only be changed using setSpeed().\n",
        "\n"
      ],
      "metadata": {
        "id": "FRVQ5kQNcAEH"
      }
    },
    {
      "cell_type": "markdown",
      "source": [
        "#5:- What are dunder methods in Python?\n",
        "\n",
        "In Python, dunder methods (short for double underscore methods) are special built-in methods with names that start and end with double underscores __like_this__.\n",
        "\n",
        "They let you define how your objects behave with operators, functions, and built-in features.\n",
        "\n",
        " Examples:\n",
        "\n",
        "__init__ → Constructor (runs when creating an object)\n",
        "\n",
        "__str__ → String representation (print(obj))\n",
        "\n",
        "__len__ → Defines behavior of len(obj)\n",
        "\n",
        "__add__ → Defines behavior of + operator"
      ],
      "metadata": {
        "id": "6HPPMFSjcPHH"
      }
    },
    {
      "cell_type": "code",
      "source": [
        "class Book:\n",
        "    def __init__(self, title, pages):\n",
        "        self.title = title\n",
        "        self.pages = pages\n",
        "\n",
        "    def __str__(self):   # Called when using print()\n",
        "        return f\"{self.title} ({self.pages} pages)\"\n",
        "\n",
        "    def __len__(self):   # Called when using len()\n",
        "        return self.pages\n",
        "\n",
        "book1 = Book(\"Python Basics\", 250)\n",
        "print(book1)        # Python Basics (250 pages)\n",
        "print(len(book1))   # 250\n"
      ],
      "metadata": {
        "colab": {
          "base_uri": "https://localhost:8080/"
        },
        "id": "yGBR6XxXcfZg",
        "outputId": "a38f1c22-4ffa-44e0-8c1d-582a2e8d4c00"
      },
      "execution_count": 2,
      "outputs": [
        {
          "output_type": "stream",
          "name": "stdout",
          "text": [
            "Python Basics (250 pages)\n",
            "250\n"
          ]
        }
      ]
    },
    {
      "cell_type": "markdown",
      "source": [
        "#6:- Explain the concept of inheritance in OOP?\n",
        "\n",
        "Inheritance in Object-Oriented Programming (OOP) is a concept where a class (child/subclass) can reuse properties and methods from another class (parent/superclass).\n",
        "\n",
        "It promotes code reusability.\n",
        "\n",
        "The child class can also add new features or override the parent’s behavior.\n",
        "\n",
        "Types of Inheritance\n",
        "\n",
        "Single Inheritance – One child inherits from one parent.\n",
        "\n",
        "Multiple Inheritance – A child inherits from more than one parent.\n",
        "\n",
        "Multilevel Inheritance – A child inherits from a parent, which itself inherits from another class.\n",
        "\n",
        "Hierarchical Inheritance – Multiple children inherit from one parent.\n",
        "\n",
        "Hybrid Inheritance – A mix of the above types."
      ],
      "metadata": {
        "id": "zw8Cr6IeclMh"
      }
    },
    {
      "cell_type": "markdown",
      "source": [
        "#7:- What is polymorphism in OOP?\n",
        "\n",
        "In OOP, polymorphism means “many forms”.\n",
        "It allows the same method or operator to behave differently depending on the object that uses it.\n",
        "\n",
        "Types of Polymorphism\n",
        "\n",
        "Method Overriding (Runtime Polymorphism) – A child class provides its own version of a method already defined in the parent.\n",
        "\n",
        "Method Overloading (Compile-time Polymorphism*) – Same method name with different parameters (not directly supported in Python, but can be mimicked).\n",
        "\n",
        "Operator Overloading – Same operator works differently for different objects."
      ],
      "metadata": {
        "id": "rPznLzw0cwuA"
      }
    },
    {
      "cell_type": "code",
      "source": [
        "#Example\n",
        "\n",
        "class Animal:\n",
        "    def speak(self):\n",
        "        print(\"This animal makes a sound.\")\n",
        "\n",
        "class Dog(Animal):\n",
        "    def speak(self):   # Overriding\n",
        "        print(\"The dog barks.\")\n",
        "\n",
        "class Cat(Animal):\n",
        "    def speak(self):   # Overriding\n",
        "        print(\"The cat meows.\")\n",
        "\n",
        "# Polymorphism in action\n",
        "for animal in [Dog(), Cat()]:\n",
        "    animal.speak()\n"
      ],
      "metadata": {
        "colab": {
          "base_uri": "https://localhost:8080/"
        },
        "id": "omFgbqJVc69p",
        "outputId": "9067b14f-d60e-4600-94c5-be16be74c2a7"
      },
      "execution_count": 3,
      "outputs": [
        {
          "output_type": "stream",
          "name": "stdout",
          "text": [
            "The dog barks.\n",
            "The cat meows.\n"
          ]
        }
      ]
    },
    {
      "cell_type": "markdown",
      "source": [
        "#8:- How is encapsulation achieved in Python?\n",
        "\n",
        "In Python, encapsulation is achieved by restricting direct access to class data and controlling it through methods. This is done using access modifiers:\n",
        "\n",
        "Encapsulation in Python is achieved by restricting access to variables using:\n",
        "\n",
        "Public (var) → accessible anywhere\n",
        "\n",
        "Protected (_var) → meant for internal use\n",
        "\n",
        "Private (__var) → hidden, accessed only via getter/setter methods.\n",
        "\n",
        " It ensures data hiding and controlled access.\n"
      ],
      "metadata": {
        "id": "duYLZWAtdB9Q"
      }
    },
    {
      "cell_type": "markdown",
      "source": [
        "#9:- What is a constructor in Python?\n",
        "\n",
        "In Python, a constructor is a special method called __init__ that runs automatically when a new object of a class is created.\n",
        "\n",
        "It initializes (sets up) the object’s attributes.\n"
      ],
      "metadata": {
        "id": "Ob9jmgVudQvg"
      }
    },
    {
      "cell_type": "code",
      "source": [
        "#Example:\n",
        "\n",
        "class Car:\n",
        "    def __init__(self, brand, model):  # constructor\n",
        "        self.brand = brand\n",
        "        self.model = model\n",
        "\n",
        "car1 = Car(\"Tesla\", \"Model 3\")\n",
        "print(car1.brand, car1.model)\n"
      ],
      "metadata": {
        "colab": {
          "base_uri": "https://localhost:8080/"
        },
        "id": "HObGLheFdcgp",
        "outputId": "74b6cdc0-711a-4e6c-8cb9-17c6cf018a9f"
      },
      "execution_count": 4,
      "outputs": [
        {
          "output_type": "stream",
          "name": "stdout",
          "text": [
            "Tesla Model 3\n"
          ]
        }
      ]
    },
    {
      "cell_type": "markdown",
      "source": [
        "#10:- What are class and static methods in Python?\n",
        "\n",
        "Class Method (@classmethod) → Takes cls as argument, works with the class, can access/modify class variables.\n",
        "\n",
        "Static Method (@staticmethod) → Takes no self or cls, works like a normal function inside a class, used for utility tasks.\n",
        "\n"
      ],
      "metadata": {
        "id": "mGh5cTdGdga_"
      }
    },
    {
      "cell_type": "markdown",
      "source": [
        "#11:-What is method overloading in Python?\n",
        "\n",
        "\n",
        "Method Overloading in OOP means having multiple methods with the same name but different parameters.\n",
        "\n",
        "In Python, true method overloading is not supported (like in Java or C++).\n",
        "\n",
        "If you define methods with the same name, the last one overrides the previous ones.\n",
        "\n",
        "But we can mimic overloading using default arguments or *args/**kwargs.\n",
        "\n"
      ],
      "metadata": {
        "id": "mUYzvl8wdstw"
      }
    },
    {
      "cell_type": "code",
      "source": [
        "#Example:-\n",
        "\n",
        "class Math:\n",
        "    def add(self, a=0, b=0, c=0):\n",
        "        return a + b + c\n",
        "\n",
        "m = Math()\n",
        "print(m.add(5))       # 5\n",
        "print(m.add(5, 10))   # 15\n",
        "print(m.add(5, 10, 20))  # 35\n",
        "\n"
      ],
      "metadata": {
        "id": "4KG3AfnAd5xJ"
      },
      "execution_count": null,
      "outputs": []
    },
    {
      "cell_type": "markdown",
      "source": [
        "#12:- What is method overriding in OOP?\n",
        "Method overriding in OOP happens when a child class defines a method with the same name and parameters as a method in its parent class, but provides a different implementation.\n",
        "\n",
        " Used to change or extend the behavior of inherited methods."
      ],
      "metadata": {
        "id": "UonD4KDNeAng"
      }
    },
    {
      "cell_type": "code",
      "source": [
        "#Example\n",
        "\n",
        "class Animal:\n",
        "    def speak(self):\n",
        "        print(\"This animal makes a sound.\")\n",
        "\n",
        "class Dog(Animal):\n",
        "    def speak(self):   # overriding parent method\n",
        "        print(\"The dog barks.\")\n",
        "\n",
        "dog = Dog()\n",
        "dog.speak()   # Output: The dog barks.\n"
      ],
      "metadata": {
        "colab": {
          "base_uri": "https://localhost:8080/"
        },
        "id": "KoOdHlS0eJNJ",
        "outputId": "75d64d44-4ef2-40ed-cd4f-8bf4a9f7b553"
      },
      "execution_count": 5,
      "outputs": [
        {
          "output_type": "stream",
          "name": "stdout",
          "text": [
            "The dog barks.\n"
          ]
        }
      ]
    },
    {
      "cell_type": "markdown",
      "source": [
        "#13:- What is a property decorator in Python?\n",
        "\n",
        "In Python, the @property decorator is used to define a method in a class that can be accessed like an attribute (without parentheses).\n",
        "\n",
        "It is commonly used to implement getters, setters, and deleters in a clean way."
      ],
      "metadata": {
        "id": "jTieiuuWeMqS"
      }
    },
    {
      "cell_type": "code",
      "source": [
        "#Example\n",
        "\n",
        "class Circle:\n",
        "    def __init__(self, radius):\n",
        "        self._radius = radius\n",
        "\n",
        "    @property\n",
        "    def radius(self):          # getter\n",
        "        return self._radius\n",
        "\n",
        "    @radius.setter\n",
        "    def radius(self, value):   # setter\n",
        "        if value > 0:\n",
        "            self._radius = value\n",
        "        else:\n",
        "            raise ValueError(\"Radius must be positive\")\n",
        "\n",
        "    @radius.deleter\n",
        "    def radius(self):          # deleter\n",
        "        del self._radius\n",
        "\n",
        "c = Circle(5)\n",
        "print(c.radius)   # Access like an attribute (5)\n",
        "\n",
        "c.radius = 10     #  Calls setter\n",
        "print(c.radius)   # 10\n"
      ],
      "metadata": {
        "colab": {
          "base_uri": "https://localhost:8080/"
        },
        "id": "v1IU62KreWgB",
        "outputId": "b65a9423-ba6e-4c67-fd4f-ddef27e240a2"
      },
      "execution_count": 6,
      "outputs": [
        {
          "output_type": "stream",
          "name": "stdout",
          "text": [
            "5\n",
            "10\n"
          ]
        }
      ]
    },
    {
      "cell_type": "markdown",
      "source": [
        "#14:- Why is polymorphism important in OOP?\n",
        "\n",
        "Polymorphism is important in OOP because it makes code more flexible, reusable, and easier to maintain.\n",
        "\n",
        "Key Reasons:\n",
        "\n",
        "Code Reusability – The same interface (method name) can work for different types of objects.\n",
        "\n",
        "Flexibility – You can write generic code that works with different classes.\n",
        "\n",
        "Extensibility – New classes can be added without changing existing code.\n",
        "\n",
        "Readability & Maintainability – Makes code cleaner and easier to understand."
      ],
      "metadata": {
        "id": "UmBE7dPZeahY"
      }
    },
    {
      "cell_type": "code",
      "source": [
        "#Example\n",
        "\n",
        "class Dog:\n",
        "    def speak(self):\n",
        "        return \"Bark\"\n",
        "\n",
        "class Cat:\n",
        "    def speak(self):\n",
        "        return \"Meow\"\n",
        "\n",
        "# Polymorphism in action\n",
        "for animal in [Dog(), Cat()]:\n",
        "    print(animal.speak())\n"
      ],
      "metadata": {
        "colab": {
          "base_uri": "https://localhost:8080/"
        },
        "id": "PncpDG4KeoYa",
        "outputId": "ac30d9e0-8f69-45cc-aa9c-bc82fa9b0cc5"
      },
      "execution_count": 7,
      "outputs": [
        {
          "output_type": "stream",
          "name": "stdout",
          "text": [
            "Bark\n",
            "Meow\n"
          ]
        }
      ]
    },
    {
      "cell_type": "markdown",
      "source": [
        "#15:- What is an abstract class in Python?\n",
        "\n",
        "In Python, an abstract class is a class that cannot be instantiated directly and is meant to be a blueprint for other classes.\n",
        "\n",
        "It is defined using the abc module (ABC and @abstractmethod).\n",
        "\n",
        "An abstract class can have abstract methods (methods without implementation) that must be implemented in child classes.\n",
        "\n",
        "\n",
        "\n"
      ],
      "metadata": {
        "id": "VajRDltQezqQ"
      }
    },
    {
      "cell_type": "code",
      "source": [
        "#Example\n",
        "\n",
        "from abc import ABC, abstractmethod\n",
        "\n",
        "class Animal(ABC):           # Abstract class\n",
        "    @abstractmethod\n",
        "    def speak(self):         # Abstract method\n",
        "        pass\n",
        "\n",
        "class Dog(Animal):\n",
        "    def speak(self):\n",
        "        return \"Bark\"\n",
        "\n",
        "class Cat(Animal):\n",
        "    def speak(self):\n",
        "        return \"Meow\"\n",
        "\n",
        "# animal = Animal() Error (can't instantiate abstract class)\n",
        "dog = Dog()\n",
        "print(dog.speak())  #Bark\n",
        "\n",
        "\n"
      ],
      "metadata": {
        "colab": {
          "base_uri": "https://localhost:8080/"
        },
        "id": "zN3VDGZXe8CC",
        "outputId": "e5fbaeb1-09a5-423c-92b1-913a8deeba2d"
      },
      "execution_count": 8,
      "outputs": [
        {
          "output_type": "stream",
          "name": "stdout",
          "text": [
            "Bark\n"
          ]
        }
      ]
    },
    {
      "cell_type": "markdown",
      "source": [
        "#16:- What are the advantages of OOP?\n",
        "\n",
        "Here are the main advantages of Object-Oriented Programming (OOP):\n",
        "\n",
        "Modularity – Code is organized into classes and objects, making it easier to manage.\n",
        "\n",
        "Reusability – Classes and methods can be reused in different programs (via inheritance).\n",
        "\n",
        "Encapsulation – Protects data by restricting direct access and exposing only necessary parts.\n",
        "\n",
        "Abstraction – Hides complex details and shows only essential features.\n",
        "\n",
        "Polymorphism – Same method/operator can work differently for different objects, increasing flexibility.\n",
        "\n",
        "Maintainability – Easier to debug, update, and extend.\n",
        "\n",
        "Real-world Modeling – Represents real-world entities naturally as objects."
      ],
      "metadata": {
        "id": "UuFLBmcnfA_3"
      }
    },
    {
      "cell_type": "markdown",
      "source": [
        "#17:-What is the difference between a class variable and an instance variable?\n",
        "\n",
        "Here’s the difference between a class variable and an instance variable in Python:\n",
        "\n",
        "Class Variable\n",
        "\n",
        "Shared by all objects of the class.\n",
        "\n",
        "Defined inside the class but outside methods.\n",
        "\n",
        "Changing it affects all instances (unless overridden).\n",
        "\n"
      ],
      "metadata": {
        "id": "1sRsANB8fLyg"
      }
    },
    {
      "cell_type": "code",
      "source": [
        "class Student:\n",
        "    school = \"ABC School\"   # class variable\n",
        "\n",
        "s1 = Student()\n",
        "s2 = Student()\n",
        "print(s1.school, s2.school)   # ABC School ABC School\n"
      ],
      "metadata": {
        "colab": {
          "base_uri": "https://localhost:8080/"
        },
        "id": "_tEJna9gfWbY",
        "outputId": "9262ce06-fe70-4874-a57c-52b9859314bc"
      },
      "execution_count": 9,
      "outputs": [
        {
          "output_type": "stream",
          "name": "stdout",
          "text": [
            "ABC School ABC School\n"
          ]
        }
      ]
    },
    {
      "cell_type": "markdown",
      "source": [
        "Instance Variable\n",
        "\n",
        "Belongs to a specific object.\n",
        "\n",
        "Defined inside the constructor (__init__) using self.\n",
        "\n",
        "Each object has its own copy."
      ],
      "metadata": {
        "id": "u1hnnGwQfYGv"
      }
    },
    {
      "cell_type": "code",
      "source": [
        "class Student:\n",
        "    def __init__(self, name):\n",
        "        self.name = name   # instance variable\n",
        "\n",
        "s1 = Student(\"Alice\")\n",
        "s2 = Student(\"Bob\")\n",
        "print(s1.name, s2.name)   # Alice Bob\n"
      ],
      "metadata": {
        "id": "RWxvEqONfakI"
      },
      "execution_count": null,
      "outputs": []
    },
    {
      "cell_type": "markdown",
      "source": [
        "#18:-What is multiple inheritance in Python?\n",
        "\n",
        "Multiple inheritance in Python means a class can inherit from more than one parent class.\n",
        "This allows the child class to combine features (attributes and methods) of multiple classes.\n",
        "\n"
      ],
      "metadata": {
        "id": "2fmIfMurfcIR"
      }
    },
    {
      "cell_type": "code",
      "source": [
        "#Example:-\n",
        "\n",
        "class Father:\n",
        "    def skill(self):\n",
        "        print(\"Gardening\")\n",
        "\n",
        "class Mother:\n",
        "    def skill(self):\n",
        "        print(\"Cooking\")\n",
        "\n",
        "class Child(Father, Mother):   # multiple inheritance\n",
        "    def skill(self):\n",
        "        print(\"Programming\")\n",
        "\n",
        "c = Child()\n",
        "c.skill()   # Programming\n"
      ],
      "metadata": {
        "colab": {
          "base_uri": "https://localhost:8080/"
        },
        "id": "Swu9-SyBfuR5",
        "outputId": "3ead885a-0888-4cdd-eb03-f5164cd216dc"
      },
      "execution_count": 10,
      "outputs": [
        {
          "output_type": "stream",
          "name": "stdout",
          "text": [
            "Programming\n"
          ]
        }
      ]
    },
    {
      "cell_type": "markdown",
      "source": [
        "#19:- Explain the purpose of ‘’__str__’ and ‘__repr__’ ‘ methods in Python.\n",
        "\n",
        "In Python, both __str__ and __repr__ are dunder methods used to define how objects are represented as strings.\n",
        "\n"
      ],
      "metadata": {
        "id": "97oKnbBWfxtY"
      }
    },
    {
      "cell_type": "markdown",
      "source": [
        ". __str__ (User-friendly string)\n",
        "\n",
        "Called by str(obj) or print(obj).\n",
        "\n",
        "Returns a readable, user-friendly string for end-users.\n",
        "\n",
        "Goal → Informal representation.\n",
        "\n",
        "2. __repr__ (Developer-friendly string)\n",
        "\n",
        "Called by repr(obj) or when you type an object in the Python shell.\n",
        "\n",
        "Returns a detailed, unambiguous string meant for developers.\n",
        "\n",
        "Goal → Formal representation, ideally one that can be used to recreate the object."
      ],
      "metadata": {
        "id": "2COto1bUgRX_"
      }
    },
    {
      "cell_type": "code",
      "source": [
        "class Book:\n",
        "    def __init__(self, title, pages):\n",
        "        self.title = title\n",
        "        self.pages = pages\n",
        "\n",
        "    def __str__(self):     # user-friendly\n",
        "        return f\"{self.title} ({self.pages} pages)\"\n",
        "\n",
        "    def __repr__(self):    # developer-friendly\n",
        "        return f\"Book(title='{self.title}', pages={self.pages})\"\n",
        "\n",
        "b = Book(\"Python Basics\", 250)\n",
        "\n",
        "print(b)        # Calls __str__ → Python Basics (250 pages)\n",
        "print(str(b))   # Same as above\n",
        "print(repr(b))  # Calls __repr__ → Book(title='Python Basics', pages=250)\n"
      ],
      "metadata": {
        "colab": {
          "base_uri": "https://localhost:8080/"
        },
        "id": "NXPSAY7AgdnH",
        "outputId": "15ff4df0-2ad3-4c2e-820f-6118d0372313"
      },
      "execution_count": 11,
      "outputs": [
        {
          "output_type": "stream",
          "name": "stdout",
          "text": [
            "Python Basics (250 pages)\n",
            "Python Basics (250 pages)\n",
            "Book(title='Python Basics', pages=250)\n"
          ]
        }
      ]
    },
    {
      "cell_type": "markdown",
      "source": [
        "#20:- What is the significance of the ‘super()’ function in Python?\n",
        "\n",
        "In Python, the super() function is used to call a method from the parent (superclass) inside a child class.\n",
        "\n",
        " Significance of super()\n",
        "\n",
        "Access parent class methods – Used to call the parent’s constructor (__init__) or other methods.\n",
        "\n",
        "Avoid code duplication – Reuse functionality from the parent instead of rewriting it.\n",
        "\n",
        "Support multiple inheritance – Works with Python’s Method Resolution Order (MRO) to ensure the right parent is called.\n",
        "\n",
        "Maintainability – Easier to update code since child classes rely on parent methods.\n"
      ],
      "metadata": {
        "id": "_J8BUj7BgfL4"
      }
    },
    {
      "cell_type": "code",
      "source": [
        "#Example:-\n",
        "\n",
        "class Animal:\n",
        "    def __init__(self, name):\n",
        "        self.name = name\n",
        "\n",
        "    def speak(self):\n",
        "        print(\"This animal makes a sound.\")\n",
        "\n",
        "class Dog(Animal):\n",
        "    def __init__(self, name, breed):\n",
        "        super().__init__(name)     # calls Animal's __init__\n",
        "        self.breed = breed\n",
        "\n",
        "    def speak(self):\n",
        "        super().speak()            # calls Animal's speak()\n",
        "        print(\"The dog barks.\")\n",
        "\n",
        "dog = Dog(\"Buddy\", \"Labrador\")\n",
        "print(dog.name)   # Buddy\n",
        "dog.speak()\n"
      ],
      "metadata": {
        "colab": {
          "base_uri": "https://localhost:8080/"
        },
        "id": "JgBYO9Mbgsb4",
        "outputId": "a8acf5c2-d95c-41e9-985a-15fbed97893a"
      },
      "execution_count": 12,
      "outputs": [
        {
          "output_type": "stream",
          "name": "stdout",
          "text": [
            "Buddy\n",
            "This animal makes a sound.\n",
            "The dog barks.\n"
          ]
        }
      ]
    },
    {
      "cell_type": "markdown",
      "source": [
        "#21:- What is the significance of the __del__ method in Python?\n",
        "\n",
        "In Python, the __del__ method is a destructor.\n",
        "It is called automatically when an object is about to be destroyed (i.e., when it goes out of scope or its reference count reaches zero).\n",
        "\n",
        "Significance of __del__\n",
        "\n",
        "Resource cleanup – Release external resources (files, database connections, memory, etc.).\n",
        "\n",
        "Final actions – Perform tasks before the object is deleted from memory.\n",
        "\n",
        "Debugging – Helps track when objects are destroyed."
      ],
      "metadata": {
        "id": "njjP62TEgx83"
      }
    },
    {
      "cell_type": "code",
      "source": [
        "#Example:-\n",
        "\n",
        "class FileHandler:\n",
        "    def __init__(self, filename):\n",
        "        self.file = open(filename, \"w\")\n",
        "        print(\"File opened.\")\n",
        "\n",
        "    def __del__(self):\n",
        "        self.file.close()\n",
        "        print(\"File closed and object destroyed.\")\n",
        "\n",
        "f = FileHandler(\"test.txt\")\n",
        "del f   # explicitly deleting the object\n"
      ],
      "metadata": {
        "colab": {
          "base_uri": "https://localhost:8080/"
        },
        "id": "0BWVbjqRg7C8",
        "outputId": "c3a99bd7-b4a2-416e-ae46-a1647a1d7f42"
      },
      "execution_count": 13,
      "outputs": [
        {
          "output_type": "stream",
          "name": "stdout",
          "text": [
            "File opened.\n",
            "File closed and object destroyed.\n"
          ]
        }
      ]
    },
    {
      "cell_type": "markdown",
      "source": [
        "#22:-What is the difference between @staticmethod and @classmethod in Python?\n",
        "\n",
        "Here’s a clear difference between @staticmethod and @classmethod in Python:\n",
        "\n",
        "1. @staticmethod\n",
        "\n",
        "Does not take self or cls as the first parameter.\n",
        "\n",
        "Works like a regular function placed inside a class.\n",
        "\n",
        "Cannot access or modify class variables.\n",
        "\n",
        "Used for utility/helper methods.\n",
        "\n",
        "Here’s a clear difference between @staticmethod and @classmethod in Python:\n",
        "\n",
        "1. @staticmethod\n",
        "\n",
        "Does not take self or cls as the first parameter.\n",
        "\n",
        "Works like a regular function placed inside a class.\n",
        "\n",
        "Cannot access or modify class variables.\n",
        "\n",
        "Used for utility/helper methods."
      ],
      "metadata": {
        "id": "4qlnBzyuhCQQ"
      }
    },
    {
      "cell_type": "code",
      "source": [
        "#Example\n",
        "\n",
        "class Math:\n",
        "    @staticmethod\n",
        "    def add(a, b):\n",
        "        return a + b\n",
        "\n",
        "print(Math.add(5, 3))  # 8\n"
      ],
      "metadata": {
        "colab": {
          "base_uri": "https://localhost:8080/"
        },
        "id": "p4p21BQ8hRzZ",
        "outputId": "10ef0a66-df2b-46f9-848f-d446731979ca"
      },
      "execution_count": 14,
      "outputs": [
        {
          "output_type": "stream",
          "name": "stdout",
          "text": [
            "8\n"
          ]
        }
      ]
    },
    {
      "cell_type": "markdown",
      "source": [
        "2. @classmethod\n",
        "\n",
        "Takes cls (the class itself) as the first parameter.\n",
        "\n",
        "Can access and modify class variables.\n",
        "\n",
        "Used when you want methods that work with the class, not instances."
      ],
      "metadata": {
        "id": "ZCbC8mZChUm6"
      }
    },
    {
      "cell_type": "code",
      "source": [
        "#Example:-\n",
        "\n",
        "class Student:\n",
        "    school = \"ABC School\"\n",
        "\n",
        "    @classmethod\n",
        "    def get_school(cls):\n",
        "        return cls.school\n",
        "\n",
        "print(Student.get_school())  # ABC School\n"
      ],
      "metadata": {
        "colab": {
          "base_uri": "https://localhost:8080/"
        },
        "id": "1EgmvNPRhYxI",
        "outputId": "1560e621-3af4-48e5-a7c7-c892af4ad236"
      },
      "execution_count": 15,
      "outputs": [
        {
          "output_type": "stream",
          "name": "stdout",
          "text": [
            "ABC School\n"
          ]
        }
      ]
    },
    {
      "cell_type": "markdown",
      "source": [
        "#23:-How does polymorphism work in Python with inheritance?\n",
        "\n",
        "In Python, polymorphism with inheritance works by allowing a child class to override methods of a parent class, so the same method name behaves differently depending on the object.\n",
        "\n",
        " How it works:-\n",
        "\n",
        "A parent class defines a method.\n",
        "\n",
        "One or more child classes override that method.\n",
        "\n",
        "When called on an object, Python decides which version to run based on the object’s type (runtime polymorphism)."
      ],
      "metadata": {
        "id": "m5gf-iHbherv"
      }
    },
    {
      "cell_type": "code",
      "source": [
        "#Example:-\n",
        "\n",
        "class Animal:\n",
        "    def speak(self):\n",
        "        return \"This animal makes a sound.\"\n",
        "\n",
        "class Dog(Animal):\n",
        "    def speak(self):   # overriding parent method\n",
        "        return \"Bark\"\n",
        "\n",
        "class Cat(Animal):\n",
        "    def speak(self):   # overriding parent method\n",
        "        return \"Meow\"\n",
        "\n",
        "# Polymorphism in action\n",
        "animals = [Dog(), Cat(), Animal()]\n",
        "for a in animals:\n",
        "    print(a.speak())\n"
      ],
      "metadata": {
        "colab": {
          "base_uri": "https://localhost:8080/"
        },
        "id": "R0bHFxEshpK5",
        "outputId": "2816be9d-9ebd-4f09-9c86-d7f764fe01ef"
      },
      "execution_count": 16,
      "outputs": [
        {
          "output_type": "stream",
          "name": "stdout",
          "text": [
            "Bark\n",
            "Meow\n",
            "This animal makes a sound.\n"
          ]
        }
      ]
    },
    {
      "cell_type": "markdown",
      "source": [
        "#24:-What is method chaining in Python OOP?\n",
        "\n",
        "Method chaining in Python OOP is a technique where you call multiple methods on the same object in a single line, because each method returns the object itself (self).\n",
        "\n",
        "How it works\n",
        "\n",
        "Each method performs an action.\n",
        "\n",
        "Instead of returning a value, it returns self (the current object).\n",
        "\n",
        "This allows chaining calls like:"
      ],
      "metadata": {
        "id": "hAMWCSlAhtvo"
      }
    },
    {
      "cell_type": "code",
      "source": [
        "#Example:-\n",
        "\n",
        "class Calculator:\n",
        "    def __init__(self, value=0):\n",
        "        self.value = value\n",
        "\n",
        "    def add(self, num):\n",
        "        self.value += num\n",
        "        return self   # return object itself\n",
        "\n",
        "    def subtract(self, num):\n",
        "        self.value -= num\n",
        "        return self\n",
        "\n",
        "    def result(self):\n",
        "        return self.value\n",
        "\n",
        "# Method chaining\n",
        "calc = Calculator()\n",
        "print(calc.add(10).subtract(3).add(5).result())  # 12\n",
        "\n"
      ],
      "metadata": {
        "colab": {
          "base_uri": "https://localhost:8080/"
        },
        "id": "hULIEAK2h2iQ",
        "outputId": "afb81dd5-82bf-4245-bfff-2bf2d0ea4a08"
      },
      "execution_count": 17,
      "outputs": [
        {
          "output_type": "stream",
          "name": "stdout",
          "text": [
            "12\n"
          ]
        }
      ]
    },
    {
      "cell_type": "markdown",
      "source": [
        "#25:- What is the purpose of the __call__ method in Python?\n",
        "\n",
        "In Python, the __call__ method allows an object (instance of a class) to be called like a function.\n",
        "\n",
        "Purpose of __call__\n",
        "\n",
        "Makes an object callable like a function.\n",
        "\n",
        "Lets you add function-like behavior to objects.\n",
        "\n",
        "Useful for function wrappers, decorators, and stateful objects."
      ],
      "metadata": {
        "id": "nGUrZPmgiGQo"
      }
    },
    {
      "cell_type": "code",
      "source": [
        "#Example:-\n",
        "\n",
        "class Multiplier:\n",
        "    def __init__(self, factor):\n",
        "        self.factor = factor\n",
        "\n",
        "    def __call__(self, x):\n",
        "        return x * self.factor\n",
        "\n",
        "double = Multiplier(2)\n",
        "triple = Multiplier(3)\n",
        "\n",
        "print(double(5))  # 10  (object used like a function)\n",
        "print(triple(5))  # 15\n"
      ],
      "metadata": {
        "colab": {
          "base_uri": "https://localhost:8080/"
        },
        "id": "TQDBlVd2iG7C",
        "outputId": "bb59aaee-1928-4ba3-906f-3da11e067cd9"
      },
      "execution_count": 18,
      "outputs": [
        {
          "output_type": "stream",
          "name": "stdout",
          "text": [
            "10\n",
            "15\n"
          ]
        }
      ]
    },
    {
      "cell_type": "markdown",
      "source": [
        "#CODING:-\n",
        "\n",
        "\n",
        "\n"
      ],
      "metadata": {
        "id": "FHmeF0QRieq4"
      }
    },
    {
      "cell_type": "code",
      "source": [
        "#1:- Create a parent class Animal with a method speak() that prints a generic message. Create a child class Dog that overrides the speak() method to print \"Bark!\".\n",
        "\n",
        "# Parent class\n",
        "class Animal:\n",
        "    def speak(self):\n",
        "        print(\"This animal makes a sound.\")\n",
        "\n",
        "# Child class\n",
        "class Dog(Animal):\n",
        "    def speak(self):\n",
        "        print(\"Bark!\")\n",
        "\n",
        "# Example usage\n",
        "a = Animal()\n",
        "a.speak()   # Output: This animal makes a sound.\n",
        "\n",
        "d = Dog()\n",
        "d.speak()   # Output: Bark!\n",
        "\n",
        "\n"
      ],
      "metadata": {
        "colab": {
          "base_uri": "https://localhost:8080/"
        },
        "id": "TPaxK1gvili5",
        "outputId": "2b2b54db-f4bb-414c-c18a-907996fcaf4f"
      },
      "execution_count": 19,
      "outputs": [
        {
          "output_type": "stream",
          "name": "stdout",
          "text": [
            "This animal makes a sound.\n",
            "Bark!\n"
          ]
        }
      ]
    },
    {
      "cell_type": "code",
      "source": [
        "#2:- Write a program to create an abstract class Shape with a method area(). Derive classes Circle and Rectangl from it and implement the area() method in both.\n",
        "\n",
        "from abc import ABC, abstractmethod\n",
        "import math\n",
        "\n",
        "# Abstract class\n",
        "class Shape(ABC):\n",
        "    @abstractmethod\n",
        "    def area(self):\n",
        "        pass\n",
        "\n",
        "# Circle class\n",
        "class Circle(Shape):\n",
        "    def __init__(self, radius):\n",
        "        self.radius = radius\n",
        "\n",
        "    def area(self):\n",
        "        return math.pi * self.radius ** 2\n",
        "\n",
        "# Rectangle class\n",
        "class Rectangle(Shape):\n",
        "    def __init__(self, length, width):\n",
        "        self.length = length\n",
        "        self.width = width\n",
        "\n",
        "    def area(self):\n",
        "        return self.length * self.width\n",
        "\n",
        "\n",
        "# Example usage\n",
        "shapes = [\n",
        "    Circle(5),\n",
        "    Rectangle(4, 6)\n",
        "]\n",
        "\n",
        "for shape in shapes:\n",
        "    print(f\"{shape.__class__.__name__} Area:\", shape.area())\n",
        "\n",
        "\n",
        "\n"
      ],
      "metadata": {
        "colab": {
          "base_uri": "https://localhost:8080/"
        },
        "id": "EVpdUagoi9rJ",
        "outputId": "600ddfc0-a78f-4be1-dc91-53ddae14886b"
      },
      "execution_count": 20,
      "outputs": [
        {
          "output_type": "stream",
          "name": "stdout",
          "text": [
            "Circle Area: 78.53981633974483\n",
            "Rectangle Area: 24\n"
          ]
        }
      ]
    },
    {
      "cell_type": "code",
      "source": [
        "#3:-  Implement a multi-level inheritance scenario where a class Vehicle has an attribute type. Derive a class Car and further derive a class ElectricCar that adds a battery attribute.\n",
        "\n",
        "# Base class\n",
        "class Vehicle:\n",
        "    def __init__(self, vehicle_type):\n",
        "        self.type = vehicle_type\n",
        "\n",
        "    def show_info(self):\n",
        "        print(f\"Vehicle Type: {self.type}\")\n",
        "\n",
        "\n",
        "# Derived class from Vehicle\n",
        "class Car(Vehicle):\n",
        "    def __init__(self, vehicle_type, brand):\n",
        "        super().__init__(vehicle_type)\n",
        "        self.brand = brand\n",
        "\n",
        "    def show_info(self):\n",
        "        super().show_info()\n",
        "        print(f\"Car Brand: {self.brand}\")\n",
        "\n",
        "\n",
        "# Further derived class from Car\n",
        "class ElectricCar(Car):\n",
        "    def __init__(self, vehicle_type, brand, battery_capacity):\n",
        "        super().__init__(vehicle_type, brand)\n",
        "        self.battery = battery_capacity\n",
        "\n",
        "    def show_info(self):\n",
        "        super().show_info()\n",
        "        print(f\"Battery Capacity: {self.battery} kWh\")\n",
        "\n",
        "\n",
        "# Example usage\n",
        "ecar = ElectricCar(\"Four Wheeler\", \"Tesla\", 85)\n",
        "ecar.show_info()\n"
      ],
      "metadata": {
        "colab": {
          "base_uri": "https://localhost:8080/"
        },
        "id": "xOJ8R-WHjJMi",
        "outputId": "d73c0b2f-ed0c-45ad-cc2c-d2d82a95629d"
      },
      "execution_count": 21,
      "outputs": [
        {
          "output_type": "stream",
          "name": "stdout",
          "text": [
            "Vehicle Type: Four Wheeler\n",
            "Car Brand: Tesla\n",
            "Battery Capacity: 85 kWh\n"
          ]
        }
      ]
    },
    {
      "cell_type": "code",
      "source": [
        "#4:-  Demonstrate polymorphism by creating a base class Bird with a method fly(). Create two derived classes Sparrow and Penguin that override the fly() method\n",
        "\n",
        "# Base class\n",
        "class Bird:\n",
        "    def fly(self):\n",
        "        print(\"Some birds can fly, some cannot.\")\n",
        "\n",
        "# Derived class Sparrow\n",
        "class Sparrow(Bird):\n",
        "    def fly(self):\n",
        "        print(\"Sparrow can fly high in the sky!\")\n",
        "\n",
        "# Derived class Penguin\n",
        "class Penguin(Bird):\n",
        "    def fly(self):\n",
        "        print(\"Penguins cannot fly, they swim instead!\")\n",
        "\n",
        "# Demonstrating polymorphism\n",
        "birds = [Sparrow(), Penguin()]\n",
        "\n",
        "for bird in birds:\n",
        "    bird.fly()   # Calls the overridden method depending on the object type\n"
      ],
      "metadata": {
        "colab": {
          "base_uri": "https://localhost:8080/"
        },
        "id": "6QEab8ljjVPw",
        "outputId": "4d0a8fe0-6a9a-4252-9134-365ae7385043"
      },
      "execution_count": 22,
      "outputs": [
        {
          "output_type": "stream",
          "name": "stdout",
          "text": [
            "Sparrow can fly high in the sky!\n",
            "Penguins cannot fly, they swim instead!\n"
          ]
        }
      ]
    },
    {
      "cell_type": "code",
      "source": [
        "#5:-  Write a program to demonstrate encapsulation by creating a class BankAccount with private attributes balance and methods to deposit, withdraw, and check balance.\n",
        "\n",
        "class BankAccount:\n",
        "    def __init__(self, initial_balance=0):\n",
        "        self.__balance = initial_balance   # private attribute\n",
        "\n",
        "    def deposit(self, amount):\n",
        "        if amount > 0:\n",
        "            self.__balance += amount\n",
        "            print(f\"Deposited: {amount}\")\n",
        "        else:\n",
        "            print(\"Deposit amount must be positive.\")\n",
        "\n",
        "    def withdraw(self, amount):\n",
        "        if 0 < amount <= self.__balance:\n",
        "            self.__balance -= amount\n",
        "            print(f\"Withdrew: {amount}\")\n",
        "        else:\n",
        "            print(\"Insufficient balance or invalid amount.\")\n",
        "\n",
        "    def check_balance(self):\n",
        "        print(f\"Current Balance: {self.__balance}\")\n",
        "\n",
        "\n",
        "# Example usage\n",
        "account = BankAccount(1000)   # initial balance\n",
        "account.deposit(500)\n",
        "account.withdraw(200)\n",
        "account.check_balance()\n",
        "\n",
        "# Trying to access private variable directly (will fail)\n",
        "# print(account.__balance)   # AttributeError\n"
      ],
      "metadata": {
        "colab": {
          "base_uri": "https://localhost:8080/"
        },
        "id": "m8L3vXqrjfoo",
        "outputId": "4f89763d-976b-4313-917d-37e70d156a22"
      },
      "execution_count": 23,
      "outputs": [
        {
          "output_type": "stream",
          "name": "stdout",
          "text": [
            "Deposited: 500\n",
            "Withdrew: 200\n",
            "Current Balance: 1300\n"
          ]
        }
      ]
    },
    {
      "cell_type": "code",
      "source": [
        "#6:- Demonstrate runtime polymorphism using a method play() in a base class Instrument. Derive classes Guitar and Piano that implement their own version of play().\n",
        "\n",
        "# Base class\n",
        "class Instrument:\n",
        "    def play(self):\n",
        "        print(\"Playing an instrument...\")\n",
        "\n",
        "# Derived class Guitar\n",
        "class Guitar(Instrument):\n",
        "    def play(self):\n",
        "        print(\"Strumming the guitar \")\n",
        "\n",
        "# Derived class Piano\n",
        "class Piano(Instrument):\n",
        "    def play(self):\n",
        "        print(\"Playing the piano \")\n",
        "\n",
        "# Demonstrating runtime polymorphism\n",
        "def start_playing(instrument):\n",
        "    instrument.play()   # method resolution happens at runtime\n",
        "\n",
        "# Example usage\n",
        "instruments = [Guitar(), Piano()]\n",
        "\n",
        "for inst in instruments:\n",
        "    start_playing(inst)\n"
      ],
      "metadata": {
        "colab": {
          "base_uri": "https://localhost:8080/"
        },
        "id": "dAsJoonijqWh",
        "outputId": "8cb190fa-795b-498a-9fe6-bc7bddc85bec"
      },
      "execution_count": 43,
      "outputs": [
        {
          "output_type": "stream",
          "name": "stdout",
          "text": [
            "Strumming the guitar \n",
            "Playing the piano \n"
          ]
        }
      ]
    },
    {
      "cell_type": "code",
      "source": [
        "#7:- Create a class MathOperations with a class method add_numbers() to add two numbers and a static method subtract_numbers() to subtract two numbers.\n",
        "\n",
        "class MathOperations:\n",
        "    # Class method (receives cls as the first argument)\n",
        "    @classmethod\n",
        "    def add_numbers(cls, a, b):\n",
        "        return a + b\n",
        "\n",
        "    # Static method (does not receive cls or self)\n",
        "    @staticmethod\n",
        "    def subtract_numbers(a, b):\n",
        "        return a - b\n",
        "\n",
        "\n",
        "# Example usage\n",
        "print(\"Addition:\", MathOperations.add_numbers(10, 5))      # Class method call\n",
        "print(\"Subtraction:\", MathOperations.subtract_numbers(10, 5))  # Static method call\n"
      ],
      "metadata": {
        "colab": {
          "base_uri": "https://localhost:8080/"
        },
        "id": "UECZjSFij0U4",
        "outputId": "11b55822-9e32-489a-96e2-38a97e33f822"
      },
      "execution_count": 25,
      "outputs": [
        {
          "output_type": "stream",
          "name": "stdout",
          "text": [
            "Addition: 15\n",
            "Subtraction: 5\n"
          ]
        }
      ]
    },
    {
      "cell_type": "code",
      "source": [
        "#8:-  Implement a class Person with a class method to count the total number of persons created.\n",
        "\n",
        "class Person:\n",
        "    # Class attribute to keep track of number of persons\n",
        "    person_count = 0\n",
        "\n",
        "    def __init__(self, name):\n",
        "        self.name = name\n",
        "        Person.person_count += 1   # increment count whenever a new object is created\n",
        "\n",
        "    @classmethod\n",
        "    def total_persons(cls):\n",
        "        return cls.person_count\n",
        "\n",
        "\n",
        "# Example usage\n",
        "p1 = Person(\"Alice\")\n",
        "p2 = Person(\"Bob\")\n",
        "p3 = Person(\"Charlie\")\n",
        "\n",
        "print(\"Total persons created:\", Person.total_persons())\n"
      ],
      "metadata": {
        "colab": {
          "base_uri": "https://localhost:8080/"
        },
        "id": "eQzSwTKHj9Pp",
        "outputId": "8cb422e9-2f13-43b4-bfc2-fea3ecb5d119"
      },
      "execution_count": 26,
      "outputs": [
        {
          "output_type": "stream",
          "name": "stdout",
          "text": [
            "Total persons created: 3\n"
          ]
        }
      ]
    },
    {
      "cell_type": "code",
      "source": [
        "#9:- Write a class Fraction with attributes numerator and denominator. Override the str method to display the fraction as \"numerator/denominator\"\n",
        "\n",
        "class Fraction:\n",
        "    def __init__(self, numerator, denominator):\n",
        "        if denominator == 0:\n",
        "            raise ValueError(\"Denominator cannot be zero.\")\n",
        "        self.numerator = numerator\n",
        "        self.denominator = denominator\n",
        "\n",
        "    def __str__(self):\n",
        "        return f\"{self.numerator}/{self.denominator}\"\n",
        "\n",
        "\n",
        "# Example usage\n",
        "f1 = Fraction(3, 4)\n",
        "f2 = Fraction(5, 7)\n",
        "\n",
        "print(f1)  # Output: 3/4\n",
        "print(f2)  # Output: 5/7\n"
      ],
      "metadata": {
        "colab": {
          "base_uri": "https://localhost:8080/"
        },
        "id": "Nw77mswdkEQJ",
        "outputId": "b8ca5f14-e9d9-4c62-ab87-a484fa42966d"
      },
      "execution_count": 27,
      "outputs": [
        {
          "output_type": "stream",
          "name": "stdout",
          "text": [
            "3/4\n",
            "5/7\n"
          ]
        }
      ]
    },
    {
      "cell_type": "code",
      "source": [
        "#10:-Demonstrate operator overloading by creating a class Vector and overriding the add method to add two vectors.\n",
        "\n",
        "class Vector:\n",
        "    def __init__(self, x, y):\n",
        "        self.x = x\n",
        "        self.y = y\n",
        "\n",
        "    # Overloading the + operator\n",
        "    def __add__(self, other):\n",
        "        return Vector(self.x + other.x, self.y + other.y)\n",
        "\n",
        "    # For easy printing\n",
        "    def __str__(self):\n",
        "        return f\"({self.x}, {self.y})\"\n",
        "\n",
        "\n",
        "# Example usage\n",
        "v1 = Vector(2, 3)\n",
        "v2 = Vector(4, 5)\n",
        "\n",
        "v3 = v1 + v2   # uses __add__()\n",
        "print(\"Resultant Vector:\", v3)\n",
        "\n",
        "\n"
      ],
      "metadata": {
        "colab": {
          "base_uri": "https://localhost:8080/"
        },
        "id": "d9q1tORQkMv5",
        "outputId": "71bdfd21-790c-49c1-85f2-4bd37bdd56ff"
      },
      "execution_count": 28,
      "outputs": [
        {
          "output_type": "stream",
          "name": "stdout",
          "text": [
            "Resultant Vector: (6, 8)\n"
          ]
        }
      ]
    },
    {
      "cell_type": "code",
      "source": [
        "#11:-  Create a class Person with attributes name and age. Add a method greet() that prints \"Hello, my name is {name} and I am {age} years old.\n",
        "\n",
        "class Person:\n",
        "    def __init__(self, name, age):\n",
        "        self.name = name\n",
        "        self.age = age\n",
        "\n",
        "    def greet(self):\n",
        "        print(f\"Hello, my name is {self.name} and I am {self.age} years old.\")\n",
        "\n",
        "\n",
        "# Example usage\n",
        "p1 = Person(\"Alice\", 25)\n",
        "p2 = Person(\"Bob\", 30)\n",
        "\n",
        "p1.greet()\n",
        "p2.greet()\n"
      ],
      "metadata": {
        "colab": {
          "base_uri": "https://localhost:8080/"
        },
        "id": "qO9BZLt0kWHy",
        "outputId": "d2bd213d-082c-4956-9f04-a1eba60faa77"
      },
      "execution_count": 29,
      "outputs": [
        {
          "output_type": "stream",
          "name": "stdout",
          "text": [
            "Hello, my name is Alice and I am 25 years old.\n",
            "Hello, my name is Bob and I am 30 years old.\n"
          ]
        }
      ]
    },
    {
      "cell_type": "code",
      "source": [
        "#12:- Implement a class Student with attributes name and grades. Create a method average_grade() to comput the average of the grades.\n",
        "\n",
        "class Student:\n",
        "    def __init__(self, name, grades):\n",
        "        self.name = name\n",
        "        self.grades = grades  # list of grades\n",
        "\n",
        "    def average_grade(self):\n",
        "        if len(self.grades) == 0:\n",
        "            return 0  # avoid division by zero\n",
        "        return sum(self.grades) / len(self.grades)\n",
        "\n",
        "\n",
        "# Example usage\n",
        "s1 = Student(\"Alice\", [85, 90, 78])\n",
        "s2 = Student(\"Bob\", [70, 88, 92, 80])\n",
        "\n",
        "print(f\"{s1.name}'s Average Grade: {s1.average_grade():.2f}\")\n",
        "print(f\"{s2.name}'s Average Grade: {s2.average_grade():.2f}\")\n"
      ],
      "metadata": {
        "colab": {
          "base_uri": "https://localhost:8080/"
        },
        "id": "pDq4anqgkiAC",
        "outputId": "69a580f4-002f-4e75-8fcb-a1f1181f9e3d"
      },
      "execution_count": 30,
      "outputs": [
        {
          "output_type": "stream",
          "name": "stdout",
          "text": [
            "Alice's Average Grade: 84.33\n",
            "Bob's Average Grade: 82.50\n"
          ]
        }
      ]
    },
    {
      "cell_type": "code",
      "source": [
        "#13:- Create a class Rectangle with methods set_dimensions() to set the dimensions and area() to calculate the area.\n",
        "\n",
        "class Rectangle:\n",
        "    def __init__(self):\n",
        "        self.length = 0\n",
        "        self.width = 0\n",
        "\n",
        "    def set_dimensions(self, length, width):\n",
        "        self.length = length\n",
        "        self.width = width\n",
        "\n",
        "    def area(self):\n",
        "        return self.length * self.width\n",
        "\n",
        "\n",
        "# Example usage\n",
        "rect = Rectangle()\n",
        "rect.set_dimensions(5, 3)\n",
        "print(\"Area of Rectangle:\", rect.area())\n"
      ],
      "metadata": {
        "colab": {
          "base_uri": "https://localhost:8080/"
        },
        "id": "8hSsHeWHktAi",
        "outputId": "68283177-2173-4689-826a-a49e9388f0da"
      },
      "execution_count": 31,
      "outputs": [
        {
          "output_type": "stream",
          "name": "stdout",
          "text": [
            "Area of Rectangle: 15\n"
          ]
        }
      ]
    },
    {
      "cell_type": "code",
      "source": [
        "#13:- Create a class Rectangle with methods set_dimensions() to set the dimensions and area() to calculate the area.\n",
        "\n",
        "class Rectangle:\n",
        "    def __init__(self):\n",
        "        self.length = 0\n",
        "        self.width = 0\n",
        "\n",
        "    def set_dimensions(self, length, width):\n",
        "        self.length = length\n",
        "        self.width = width\n",
        "\n",
        "    def area(self):\n",
        "        return self.length * self.width\n",
        "\n",
        "\n",
        "# Example usage\n",
        "rect = Rectangle()\n",
        "rect.set_dimensions(10, 5)\n",
        "print(\"Area of Rectangle:\", rect.area())\n"
      ],
      "metadata": {
        "colab": {
          "base_uri": "https://localhost:8080/"
        },
        "id": "4GofsZeKm45M",
        "outputId": "f98e756b-e89f-47f4-a547-8adc2d474d00"
      },
      "execution_count": 42,
      "outputs": [
        {
          "output_type": "stream",
          "name": "stdout",
          "text": [
            "Area of Rectangle: 50\n"
          ]
        }
      ]
    },
    {
      "cell_type": "code",
      "source": [
        "#14:- Create a class Employee with a method calculate_salary() that computes the salary based on hours worked and hourly rate. Create a derived class Manager that adds a bonus to the salary.\n",
        "\n",
        "# Base class\n",
        "class Employee:\n",
        "    def __init__(self, name, hours_worked, hourly_rate):\n",
        "        self.name = name\n",
        "        self.hours_worked = hours_worked\n",
        "        self.hourly_rate = hourly_rate\n",
        "\n",
        "    def calculate_salary(self):\n",
        "        return self.hours_worked * self.hourly_rate\n",
        "\n",
        "\n",
        "# Derived class\n",
        "class Manager(Employee):\n",
        "    def __init__(self, name, hours_worked, hourly_rate, bonus):\n",
        "        super().__init__(name, hours_worked, hourly_rate)\n",
        "        self.bonus = bonus\n",
        "\n",
        "    def calculate_salary(self):\n",
        "        base_salary = super().calculate_salary()  # call Employee method\n",
        "        return base_salary + self.bonus\n",
        "\n",
        "\n",
        "# Example usage\n",
        "emp = Employee(\"Alice\", 40, 20)   # 40 hrs × $20/hr\n",
        "mgr = Manager(\"Bob\", 40, 30, 500) # 40 hrs × $30/hr + $500 bonus\n",
        "\n",
        "print(f\"{emp.name}'s Salary: ${emp.calculate_salary()}\")\n",
        "print(f\"{mgr.name}'s Salary: ${mgr.calculate_salary()}\")\n"
      ],
      "metadata": {
        "colab": {
          "base_uri": "https://localhost:8080/"
        },
        "id": "IzxfwErdk2y6",
        "outputId": "7f87fa37-3b7d-4585-ac0e-9cbf1069fb6f"
      },
      "execution_count": 33,
      "outputs": [
        {
          "output_type": "stream",
          "name": "stdout",
          "text": [
            "Alice's Salary: $800\n",
            "Bob's Salary: $1700\n"
          ]
        }
      ]
    },
    {
      "cell_type": "code",
      "source": [
        "#15:-Create a class Product with attributes name, price, and quantity. Implement a method total_price() that calculates the total price of the product.\n",
        "\n",
        "class Product:\n",
        "    def __init__(self, name, price, quantity):\n",
        "        self.name = name\n",
        "        self.price = price\n",
        "        self.quantity = quantity\n",
        "\n",
        "    def total_price(self):\n",
        "        return self.price * self.quantity\n",
        "\n",
        "\n",
        "# Example usage\n",
        "p1 = Product(\"Laptop\", 50000, 2)\n",
        "p2 = Product(\"Headphones\", 1500, 5)\n",
        "\n",
        "print(f\"{p1.name} Total Price: ₹{p1.total_price()}\")\n",
        "print(f\"{p2.name} Total Price: ₹{p2.total_price()}\")\n",
        "\n",
        "\n",
        "\n"
      ],
      "metadata": {
        "colab": {
          "base_uri": "https://localhost:8080/"
        },
        "id": "GW-XZPmJlFiU",
        "outputId": "d0b0aabf-fe27-4636-87ab-5f0faba0917f"
      },
      "execution_count": 34,
      "outputs": [
        {
          "output_type": "stream",
          "name": "stdout",
          "text": [
            "Laptop Total Price: ₹100000\n",
            "Headphones Total Price: ₹7500\n"
          ]
        }
      ]
    },
    {
      "cell_type": "code",
      "source": [
        "#16:- Create a class Animal with an abstract method sound(). Create two derived classes Cow and Sheep that\n",
        "#implement the sound() method.\n",
        "\n",
        "from abc import ABC, abstractmethod\n",
        "\n",
        "# Abstract base class\n",
        "class Animal(ABC):\n",
        "    @abstractmethod\n",
        "    def sound(self):\n",
        "        pass\n",
        "\n",
        "\n",
        "# Derived class Cow\n",
        "class Cow(Animal):\n",
        "    def sound(self):\n",
        "        return \"Moo\"\n",
        "\n",
        "\n",
        "# Derived class Sheep\n",
        "class Sheep(Animal):\n",
        "    def sound(self):\n",
        "        return \"Baa\"\n",
        "\n",
        "\n",
        "# Example usage\n",
        "animals = [Cow(), Sheep()]\n",
        "\n",
        "for animal in animals:\n",
        "    print(f\"{animal.__class__.__name__} sound: {animal.sound()}\")"
      ],
      "metadata": {
        "colab": {
          "base_uri": "https://localhost:8080/"
        },
        "id": "toWLsgrhlP3i",
        "outputId": "f6d9206e-5051-4446-c252-5ee96205ae59"
      },
      "execution_count": 37,
      "outputs": [
        {
          "output_type": "stream",
          "name": "stdout",
          "text": [
            "Cow sound: Moo\n",
            "Sheep sound: Baa\n"
          ]
        }
      ]
    },
    {
      "cell_type": "code",
      "source": [
        "#17:- Create a class Book with attributes title, author, and year_published. Add a method get_book_info() that returns a formatted string with the book's details.\n",
        "\n",
        "class Book:\n",
        "    def __init__(self, title, author, year_published):\n",
        "        self.title = title\n",
        "        self.author = author\n",
        "        self.year_published = year_published\n",
        "\n",
        "    def get_book_info(self):\n",
        "        return f\"'{self.title}' by {self.author}, published in {self.year_published}\"\n",
        "\n",
        "\n",
        "# Example usage\n",
        "b1 = Book(\"To Kill a Mockingbird\", \"Harper Lee\", 1960)\n",
        "b2 = Book(\"1984\", \"George Orwell\", 1949)\n",
        "\n",
        "print(b1.get_book_info())\n",
        "print(b2.get_book_info())\n"
      ],
      "metadata": {
        "colab": {
          "base_uri": "https://localhost:8080/"
        },
        "id": "X1wxsLZxlo6c",
        "outputId": "0b656b46-cd5b-4832-80b5-d06dff436a8a"
      },
      "execution_count": 38,
      "outputs": [
        {
          "output_type": "stream",
          "name": "stdout",
          "text": [
            "'To Kill a Mockingbird' by Harper Lee, published in 1960\n",
            "'1984' by George Orwell, published in 1949\n"
          ]
        }
      ]
    },
    {
      "cell_type": "code",
      "source": [
        "#18:-Create a class House with attributes address and price. Create a derived class Mansion that adds an attribute number_of_rooms.\n",
        "\n",
        "# Base class\n",
        "class House:\n",
        "    def __init__(self, address, price):\n",
        "        self.address = address\n",
        "        self.price = price\n",
        "\n",
        "    def get_info(self):\n",
        "        return f\"House at {self.address}, Price: ₹{self.price}\"\n",
        "\n",
        "\n",
        "# Derived class\n",
        "class Mansion(House):\n",
        "    def __init__(self, address, price, number_of_rooms):\n",
        "        super().__init__(address, price)\n",
        "        self.number_of_rooms = number_of_rooms\n",
        "\n",
        "    def get_info(self):\n",
        "        return f\"Mansion at {self.address}, Price: ₹{self.price}, Rooms: {self.number_of_rooms}\"\n",
        "\n",
        "\n",
        "# Example usage\n",
        "h1 = House(\"123 Green Street\", 5000000)\n",
        "m1 = Mansion(\"456 Luxury Ave\", 25000000, 12)\n",
        "\n",
        "print(h1.get_info())\n",
        "print(m1.get_info())"
      ],
      "metadata": {
        "colab": {
          "base_uri": "https://localhost:8080/"
        },
        "id": "4RS1P3jil02y",
        "outputId": "aba19dba-f007-4d2d-c177-724f8eb0f368"
      },
      "execution_count": 41,
      "outputs": [
        {
          "output_type": "stream",
          "name": "stdout",
          "text": [
            "House at 123 Green Street, Price: ₹5000000\n",
            "Mansion at 456 Luxury Ave, Price: ₹25000000, Rooms: 12\n"
          ]
        }
      ]
    }
  ]
}